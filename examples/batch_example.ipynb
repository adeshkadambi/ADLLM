{
 "cells": [
  {
   "cell_type": "code",
   "execution_count": null,
   "metadata": {},
   "outputs": [],
   "source": [
    "import sys\n",
    "sys.path.append('..')"
   ]
  },
  {
   "cell_type": "code",
   "execution_count": null,
   "metadata": {},
   "outputs": [],
   "source": [
    "from processor import BatchProcessor\n",
    "\n",
    "video_dir = '/media/adeshkadambi/WD_BLACK/PhD/test_folder/'\n",
    "\n",
    "processor = BatchProcessor(\n",
    "    video_dir=video_dir,\n",
    "    num_frames=4,\n",
    "    model=\"llama3.2-vision:latest\"\n",
    ")\n",
    "\n",
    "processor.load_progress()\n",
    "processor.process_videos()"
   ]
  },
  {
   "cell_type": "code",
   "execution_count": null,
   "metadata": {},
   "outputs": [],
   "source": [
    "import json\n",
    "\n",
    "with open(processor.results_path, 'r') as f:\n",
    "    results = json.load(f)"
   ]
  },
  {
   "cell_type": "code",
   "execution_count": null,
   "metadata": {},
   "outputs": [],
   "source": [
    "import os\n",
    "\n",
    "from PIL import Image\n",
    "from matplotlib import pyplot as plt\n",
    "\n",
    "grids_path = os.path.join(processor.batch_dir, 'grids')\n",
    "\n",
    "for video_name, video_results in results.items():\n",
    "    pred = video_results['prediction']\n",
    "    reasoning = video_results['reasoning']\n",
    "    tags = video_results['tags']\n",
    "    grid = os.path.join(grids_path, video_name.replace('.MP4', '_grid.png'))\n",
    "\n",
    "    plt.imshow(Image.open(grid))\n",
    "    plt.title(f'{video_name} - {pred}')\n",
    "    plt.show()\n",
    "\n",
    "    print(video_results)"
   ]
  }
 ],
 "metadata": {
  "kernelspec": {
   "display_name": "adl_venv",
   "language": "python",
   "name": "python3"
  },
  "language_info": {
   "codemirror_mode": {
    "name": "ipython",
    "version": 3
   },
   "file_extension": ".py",
   "mimetype": "text/x-python",
   "name": "python",
   "nbconvert_exporter": "python",
   "pygments_lexer": "ipython3",
   "version": "3.12.7"
  }
 },
 "nbformat": 4,
 "nbformat_minor": 2
}
